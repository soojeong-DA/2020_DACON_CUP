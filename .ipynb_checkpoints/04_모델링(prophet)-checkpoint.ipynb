{
 "cells": [
  {
   "cell_type": "markdown",
   "metadata": {
    "toc": true
   },
   "source": [
    "<h1>Table of Contents<span class=\"tocSkip\"></span></h1>\n",
    "<div class=\"toc\"><ul class=\"toc-item\"><li><span><a href=\"#데이터-불러오기\" data-toc-modified-id=\"데이터-불러오기-1\"><span class=\"toc-item-num\">1&nbsp;&nbsp;</span>데이터 불러오기</a></span></li><li><span><a href=\"#target별-데이터셋-분할\" data-toc-modified-id=\"target별-데이터셋-분할-2\"><span class=\"toc-item-num\">2&nbsp;&nbsp;</span>target별 데이터셋 분할</a></span></li><li><span><a href=\"#prophet-모델의-holiday-특성을-반영할-변수-생성\" data-toc-modified-id=\"prophet-모델의-holiday-특성을-반영할-변수-생성-3\"><span class=\"toc-item-num\">3&nbsp;&nbsp;</span>prophet 모델의 holiday 특성을 반영할 변수 생성</a></span><ul class=\"toc-item\"><li><span><a href=\"#legal_holiday\" data-toc-modified-id=\"legal_holiday-3.1\"><span class=\"toc-item-num\">3.1&nbsp;&nbsp;</span>legal_holiday</a></span></li><li><span><a href=\"#period_start\" data-toc-modified-id=\"period_start-3.2\"><span class=\"toc-item-num\">3.2&nbsp;&nbsp;</span>period_start</a></span></li><li><span><a href=\"#period_start2\" data-toc-modified-id=\"period_start2-3.3\"><span class=\"toc-item-num\">3.3&nbsp;&nbsp;</span>period_start2</a></span></li><li><span><a href=\"#period_start_low\" data-toc-modified-id=\"period_start_low-3.4\"><span class=\"toc-item-num\">3.4&nbsp;&nbsp;</span>period_start_low</a></span></li><li><span><a href=\"#period_end\" data-toc-modified-id=\"period_end-3.5\"><span class=\"toc-item-num\">3.5&nbsp;&nbsp;</span>period_end</a></span></li><li><span><a href=\"#period_end2\" data-toc-modified-id=\"period_end2-3.6\"><span class=\"toc-item-num\">3.6&nbsp;&nbsp;</span>period_end2</a></span></li><li><span><a href=\"#merge_deadline\" data-toc-modified-id=\"merge_deadline-3.7\"><span class=\"toc-item-num\">3.7&nbsp;&nbsp;</span>merge_deadline</a></span></li><li><span><a href=\"#hoidays-dataframe에-모두-합치기\" data-toc-modified-id=\"hoidays-dataframe에-모두-합치기-3.8\"><span class=\"toc-item-num\">3.8&nbsp;&nbsp;</span>hoidays dataframe에 모두 합치기</a></span></li></ul></li><li><span><a href=\"#모델-학습-및-예측\" data-toc-modified-id=\"모델-학습-및-예측-4\"><span class=\"toc-item-num\">4&nbsp;&nbsp;</span>모델 학습 및 예측</a></span><ul class=\"toc-item\"><li><span><a href=\"#사용자\" data-toc-modified-id=\"사용자-4.1\"><span class=\"toc-item-num\">4.1&nbsp;&nbsp;</span>사용자</a></span><ul class=\"toc-item\"><li><span><a href=\"#교차검증을-통한-최적-매개변수-탐색\" data-toc-modified-id=\"교차검증을-통한-최적-매개변수-탐색-4.1.1\"><span class=\"toc-item-num\">4.1.1&nbsp;&nbsp;</span>교차검증을 통한 최적 매개변수 탐색</a></span></li><li><span><a href=\"#최적-매개변수로-모델링-및-예측\" data-toc-modified-id=\"최적-매개변수로-모델링-및-예측-4.1.2\"><span class=\"toc-item-num\">4.1.2&nbsp;&nbsp;</span>최적 매개변수로 모델링 및 예측</a></span></li></ul></li><li><span><a href=\"#세션\" data-toc-modified-id=\"세션-4.2\"><span class=\"toc-item-num\">4.2&nbsp;&nbsp;</span>세션</a></span><ul class=\"toc-item\"><li><span><a href=\"#교차검증을-통한-최적-매개변수-탐색\" data-toc-modified-id=\"교차검증을-통한-최적-매개변수-탐색-4.2.1\"><span class=\"toc-item-num\">4.2.1&nbsp;&nbsp;</span>교차검증을 통한 최적 매개변수 탐색</a></span></li><li><span><a href=\"#최적-매개변수로-모델링-및-예측\" data-toc-modified-id=\"최적-매개변수로-모델링-및-예측-4.2.2\"><span class=\"toc-item-num\">4.2.2&nbsp;&nbsp;</span>최적 매개변수로 모델링 및 예측</a></span></li></ul></li><li><span><a href=\"#신규방문자\" data-toc-modified-id=\"신규방문자-4.3\"><span class=\"toc-item-num\">4.3&nbsp;&nbsp;</span>신규방문자</a></span><ul class=\"toc-item\"><li><span><a href=\"#교차검증을-통한-최적-매개변수-탐색\" data-toc-modified-id=\"교차검증을-통한-최적-매개변수-탐색-4.3.1\"><span class=\"toc-item-num\">4.3.1&nbsp;&nbsp;</span>교차검증을 통한 최적 매개변수 탐색</a></span></li><li><span><a href=\"#최적-매개변수로-모델링-및-예측\" data-toc-modified-id=\"최적-매개변수로-모델링-및-예측-4.3.2\"><span class=\"toc-item-num\">4.3.2&nbsp;&nbsp;</span>최적 매개변수로 모델링 및 예측</a></span></li></ul></li><li><span><a href=\"#페이지뷰\" data-toc-modified-id=\"페이지뷰-4.4\"><span class=\"toc-item-num\">4.4&nbsp;&nbsp;</span>페이지뷰</a></span><ul class=\"toc-item\"><li><span><a href=\"#교차검증을-통한-최적-매개변수-탐색\" data-toc-modified-id=\"교차검증을-통한-최적-매개변수-탐색-4.4.1\"><span class=\"toc-item-num\">4.4.1&nbsp;&nbsp;</span>교차검증을 통한 최적 매개변수 탐색</a></span></li><li><span><a href=\"#최적-매개변수로-모델링-및-예측\" data-toc-modified-id=\"최적-매개변수로-모델링-및-예측-4.4.2\"><span class=\"toc-item-num\">4.4.2&nbsp;&nbsp;</span>최적 매개변수로 모델링 및 예측</a></span></li></ul></li></ul></li><li><span><a href=\"#submission\" data-toc-modified-id=\"submission-5\"><span class=\"toc-item-num\">5&nbsp;&nbsp;</span>submission</a></span></li></ul></div>"
   ]
  },
  {
   "cell_type": "code",
   "execution_count": 1,
   "metadata": {
    "ExecuteTime": {
     "end_time": "2021-06-30T01:43:51.955637Z",
     "start_time": "2021-06-30T01:43:48.471516Z"
    }
   },
   "outputs": [],
   "source": [
    "import pandas as pd\n",
    "import numpy as np\n",
    "\n",
    "from fbprophet import Prophet\n",
    "from fbprophet.plot import add_changepoints_to_plot\n",
    "\n",
    "from fbprophet.diagnostics import cross_validation\n",
    "from fbprophet.diagnostics import performance_metrics\n",
    "from fbprophet.plot import plot_cross_validation_metric\n",
    "\n",
    "from tqdm.notebook import tqdm"
   ]
  },
  {
   "cell_type": "markdown",
   "metadata": {},
   "source": [
    "# 데이터 불러오기"
   ]
  },
  {
   "cell_type": "code",
   "execution_count": 2,
   "metadata": {
    "ExecuteTime": {
     "end_time": "2021-06-30T01:43:52.540162Z",
     "start_time": "2021-06-30T01:43:51.957641Z"
    }
   },
   "outputs": [
    {
     "ename": "FileNotFoundError",
     "evalue": "[Errno 2] No such file or directory: 'data/train_final2.csv'",
     "output_type": "error",
     "traceback": [
      "\u001b[1;31m---------------------------------------------------------------------------\u001b[0m",
      "\u001b[1;31mFileNotFoundError\u001b[0m                         Traceback (most recent call last)",
      "\u001b[1;32m<ipython-input-2-83ceb07d1744>\u001b[0m in \u001b[0;36m<module>\u001b[1;34m\u001b[0m\n\u001b[1;32m----> 1\u001b[1;33m \u001b[0mtrain\u001b[0m \u001b[1;33m=\u001b[0m \u001b[0mpd\u001b[0m\u001b[1;33m.\u001b[0m\u001b[0mread_csv\u001b[0m\u001b[1;33m(\u001b[0m\u001b[1;34m'data/train_final2.csv'\u001b[0m\u001b[1;33m,\u001b[0m \u001b[0mencoding\u001b[0m\u001b[1;33m=\u001b[0m\u001b[1;34m'cp949'\u001b[0m\u001b[1;33m)\u001b[0m\u001b[1;33m\u001b[0m\u001b[1;33m\u001b[0m\u001b[0m\n\u001b[0m\u001b[0;32m      2\u001b[0m \u001b[0mtrain\u001b[0m\u001b[1;33m\u001b[0m\u001b[1;33m\u001b[0m\u001b[0m\n",
      "\u001b[1;32m~\\anaconda3\\lib\\site-packages\\pandas\\io\\parsers.py\u001b[0m in \u001b[0;36mread_csv\u001b[1;34m(filepath_or_buffer, sep, delimiter, header, names, index_col, usecols, squeeze, prefix, mangle_dupe_cols, dtype, engine, converters, true_values, false_values, skipinitialspace, skiprows, skipfooter, nrows, na_values, keep_default_na, na_filter, verbose, skip_blank_lines, parse_dates, infer_datetime_format, keep_date_col, date_parser, dayfirst, cache_dates, iterator, chunksize, compression, thousands, decimal, lineterminator, quotechar, quoting, doublequote, escapechar, comment, encoding, dialect, error_bad_lines, warn_bad_lines, delim_whitespace, low_memory, memory_map, float_precision, storage_options)\u001b[0m\n\u001b[0;32m    608\u001b[0m     \u001b[0mkwds\u001b[0m\u001b[1;33m.\u001b[0m\u001b[0mupdate\u001b[0m\u001b[1;33m(\u001b[0m\u001b[0mkwds_defaults\u001b[0m\u001b[1;33m)\u001b[0m\u001b[1;33m\u001b[0m\u001b[1;33m\u001b[0m\u001b[0m\n\u001b[0;32m    609\u001b[0m \u001b[1;33m\u001b[0m\u001b[0m\n\u001b[1;32m--> 610\u001b[1;33m     \u001b[1;32mreturn\u001b[0m \u001b[0m_read\u001b[0m\u001b[1;33m(\u001b[0m\u001b[0mfilepath_or_buffer\u001b[0m\u001b[1;33m,\u001b[0m \u001b[0mkwds\u001b[0m\u001b[1;33m)\u001b[0m\u001b[1;33m\u001b[0m\u001b[1;33m\u001b[0m\u001b[0m\n\u001b[0m\u001b[0;32m    611\u001b[0m \u001b[1;33m\u001b[0m\u001b[0m\n\u001b[0;32m    612\u001b[0m \u001b[1;33m\u001b[0m\u001b[0m\n",
      "\u001b[1;32m~\\anaconda3\\lib\\site-packages\\pandas\\io\\parsers.py\u001b[0m in \u001b[0;36m_read\u001b[1;34m(filepath_or_buffer, kwds)\u001b[0m\n\u001b[0;32m    460\u001b[0m \u001b[1;33m\u001b[0m\u001b[0m\n\u001b[0;32m    461\u001b[0m     \u001b[1;31m# Create the parser.\u001b[0m\u001b[1;33m\u001b[0m\u001b[1;33m\u001b[0m\u001b[1;33m\u001b[0m\u001b[0m\n\u001b[1;32m--> 462\u001b[1;33m     \u001b[0mparser\u001b[0m \u001b[1;33m=\u001b[0m \u001b[0mTextFileReader\u001b[0m\u001b[1;33m(\u001b[0m\u001b[0mfilepath_or_buffer\u001b[0m\u001b[1;33m,\u001b[0m \u001b[1;33m**\u001b[0m\u001b[0mkwds\u001b[0m\u001b[1;33m)\u001b[0m\u001b[1;33m\u001b[0m\u001b[1;33m\u001b[0m\u001b[0m\n\u001b[0m\u001b[0;32m    463\u001b[0m \u001b[1;33m\u001b[0m\u001b[0m\n\u001b[0;32m    464\u001b[0m     \u001b[1;32mif\u001b[0m \u001b[0mchunksize\u001b[0m \u001b[1;32mor\u001b[0m \u001b[0miterator\u001b[0m\u001b[1;33m:\u001b[0m\u001b[1;33m\u001b[0m\u001b[1;33m\u001b[0m\u001b[0m\n",
      "\u001b[1;32m~\\anaconda3\\lib\\site-packages\\pandas\\io\\parsers.py\u001b[0m in \u001b[0;36m__init__\u001b[1;34m(self, f, engine, **kwds)\u001b[0m\n\u001b[0;32m    817\u001b[0m             \u001b[0mself\u001b[0m\u001b[1;33m.\u001b[0m\u001b[0moptions\u001b[0m\u001b[1;33m[\u001b[0m\u001b[1;34m\"has_index_names\"\u001b[0m\u001b[1;33m]\u001b[0m \u001b[1;33m=\u001b[0m \u001b[0mkwds\u001b[0m\u001b[1;33m[\u001b[0m\u001b[1;34m\"has_index_names\"\u001b[0m\u001b[1;33m]\u001b[0m\u001b[1;33m\u001b[0m\u001b[1;33m\u001b[0m\u001b[0m\n\u001b[0;32m    818\u001b[0m \u001b[1;33m\u001b[0m\u001b[0m\n\u001b[1;32m--> 819\u001b[1;33m         \u001b[0mself\u001b[0m\u001b[1;33m.\u001b[0m\u001b[0m_engine\u001b[0m \u001b[1;33m=\u001b[0m \u001b[0mself\u001b[0m\u001b[1;33m.\u001b[0m\u001b[0m_make_engine\u001b[0m\u001b[1;33m(\u001b[0m\u001b[0mself\u001b[0m\u001b[1;33m.\u001b[0m\u001b[0mengine\u001b[0m\u001b[1;33m)\u001b[0m\u001b[1;33m\u001b[0m\u001b[1;33m\u001b[0m\u001b[0m\n\u001b[0m\u001b[0;32m    820\u001b[0m \u001b[1;33m\u001b[0m\u001b[0m\n\u001b[0;32m    821\u001b[0m     \u001b[1;32mdef\u001b[0m \u001b[0mclose\u001b[0m\u001b[1;33m(\u001b[0m\u001b[0mself\u001b[0m\u001b[1;33m)\u001b[0m\u001b[1;33m:\u001b[0m\u001b[1;33m\u001b[0m\u001b[1;33m\u001b[0m\u001b[0m\n",
      "\u001b[1;32m~\\anaconda3\\lib\\site-packages\\pandas\\io\\parsers.py\u001b[0m in \u001b[0;36m_make_engine\u001b[1;34m(self, engine)\u001b[0m\n\u001b[0;32m   1048\u001b[0m             )\n\u001b[0;32m   1049\u001b[0m         \u001b[1;31m# error: Too many arguments for \"ParserBase\"\u001b[0m\u001b[1;33m\u001b[0m\u001b[1;33m\u001b[0m\u001b[1;33m\u001b[0m\u001b[0m\n\u001b[1;32m-> 1050\u001b[1;33m         \u001b[1;32mreturn\u001b[0m \u001b[0mmapping\u001b[0m\u001b[1;33m[\u001b[0m\u001b[0mengine\u001b[0m\u001b[1;33m]\u001b[0m\u001b[1;33m(\u001b[0m\u001b[0mself\u001b[0m\u001b[1;33m.\u001b[0m\u001b[0mf\u001b[0m\u001b[1;33m,\u001b[0m \u001b[1;33m**\u001b[0m\u001b[0mself\u001b[0m\u001b[1;33m.\u001b[0m\u001b[0moptions\u001b[0m\u001b[1;33m)\u001b[0m  \u001b[1;31m# type: ignore[call-arg]\u001b[0m\u001b[1;33m\u001b[0m\u001b[1;33m\u001b[0m\u001b[0m\n\u001b[0m\u001b[0;32m   1051\u001b[0m \u001b[1;33m\u001b[0m\u001b[0m\n\u001b[0;32m   1052\u001b[0m     \u001b[1;32mdef\u001b[0m \u001b[0m_failover_to_python\u001b[0m\u001b[1;33m(\u001b[0m\u001b[0mself\u001b[0m\u001b[1;33m)\u001b[0m\u001b[1;33m:\u001b[0m\u001b[1;33m\u001b[0m\u001b[1;33m\u001b[0m\u001b[0m\n",
      "\u001b[1;32m~\\anaconda3\\lib\\site-packages\\pandas\\io\\parsers.py\u001b[0m in \u001b[0;36m__init__\u001b[1;34m(self, src, **kwds)\u001b[0m\n\u001b[0;32m   1865\u001b[0m \u001b[1;33m\u001b[0m\u001b[0m\n\u001b[0;32m   1866\u001b[0m         \u001b[1;31m# open handles\u001b[0m\u001b[1;33m\u001b[0m\u001b[1;33m\u001b[0m\u001b[1;33m\u001b[0m\u001b[0m\n\u001b[1;32m-> 1867\u001b[1;33m         \u001b[0mself\u001b[0m\u001b[1;33m.\u001b[0m\u001b[0m_open_handles\u001b[0m\u001b[1;33m(\u001b[0m\u001b[0msrc\u001b[0m\u001b[1;33m,\u001b[0m \u001b[0mkwds\u001b[0m\u001b[1;33m)\u001b[0m\u001b[1;33m\u001b[0m\u001b[1;33m\u001b[0m\u001b[0m\n\u001b[0m\u001b[0;32m   1868\u001b[0m         \u001b[1;32massert\u001b[0m \u001b[0mself\u001b[0m\u001b[1;33m.\u001b[0m\u001b[0mhandles\u001b[0m \u001b[1;32mis\u001b[0m \u001b[1;32mnot\u001b[0m \u001b[1;32mNone\u001b[0m\u001b[1;33m\u001b[0m\u001b[1;33m\u001b[0m\u001b[0m\n\u001b[0;32m   1869\u001b[0m         \u001b[1;32mfor\u001b[0m \u001b[0mkey\u001b[0m \u001b[1;32min\u001b[0m \u001b[1;33m(\u001b[0m\u001b[1;34m\"storage_options\"\u001b[0m\u001b[1;33m,\u001b[0m \u001b[1;34m\"encoding\"\u001b[0m\u001b[1;33m,\u001b[0m \u001b[1;34m\"memory_map\"\u001b[0m\u001b[1;33m,\u001b[0m \u001b[1;34m\"compression\"\u001b[0m\u001b[1;33m)\u001b[0m\u001b[1;33m:\u001b[0m\u001b[1;33m\u001b[0m\u001b[1;33m\u001b[0m\u001b[0m\n",
      "\u001b[1;32m~\\anaconda3\\lib\\site-packages\\pandas\\io\\parsers.py\u001b[0m in \u001b[0;36m_open_handles\u001b[1;34m(self, src, kwds)\u001b[0m\n\u001b[0;32m   1360\u001b[0m         \u001b[0mLet\u001b[0m \u001b[0mthe\u001b[0m \u001b[0mreaders\u001b[0m \u001b[0mopen\u001b[0m \u001b[0mIOHanldes\u001b[0m \u001b[0mafter\u001b[0m \u001b[0mthey\u001b[0m \u001b[0mare\u001b[0m \u001b[0mdone\u001b[0m \u001b[1;32mwith\u001b[0m \u001b[0mtheir\u001b[0m \u001b[0mpotential\u001b[0m \u001b[0mraises\u001b[0m\u001b[1;33m.\u001b[0m\u001b[1;33m\u001b[0m\u001b[1;33m\u001b[0m\u001b[0m\n\u001b[0;32m   1361\u001b[0m         \"\"\"\n\u001b[1;32m-> 1362\u001b[1;33m         self.handles = get_handle(\n\u001b[0m\u001b[0;32m   1363\u001b[0m             \u001b[0msrc\u001b[0m\u001b[1;33m,\u001b[0m\u001b[1;33m\u001b[0m\u001b[1;33m\u001b[0m\u001b[0m\n\u001b[0;32m   1364\u001b[0m             \u001b[1;34m\"r\"\u001b[0m\u001b[1;33m,\u001b[0m\u001b[1;33m\u001b[0m\u001b[1;33m\u001b[0m\u001b[0m\n",
      "\u001b[1;32m~\\anaconda3\\lib\\site-packages\\pandas\\io\\common.py\u001b[0m in \u001b[0;36mget_handle\u001b[1;34m(path_or_buf, mode, encoding, compression, memory_map, is_text, errors, storage_options)\u001b[0m\n\u001b[0;32m    640\u001b[0m                 \u001b[0merrors\u001b[0m \u001b[1;33m=\u001b[0m \u001b[1;34m\"replace\"\u001b[0m\u001b[1;33m\u001b[0m\u001b[1;33m\u001b[0m\u001b[0m\n\u001b[0;32m    641\u001b[0m             \u001b[1;31m# Encoding\u001b[0m\u001b[1;33m\u001b[0m\u001b[1;33m\u001b[0m\u001b[1;33m\u001b[0m\u001b[0m\n\u001b[1;32m--> 642\u001b[1;33m             handle = open(\n\u001b[0m\u001b[0;32m    643\u001b[0m                 \u001b[0mhandle\u001b[0m\u001b[1;33m,\u001b[0m\u001b[1;33m\u001b[0m\u001b[1;33m\u001b[0m\u001b[0m\n\u001b[0;32m    644\u001b[0m                 \u001b[0mioargs\u001b[0m\u001b[1;33m.\u001b[0m\u001b[0mmode\u001b[0m\u001b[1;33m,\u001b[0m\u001b[1;33m\u001b[0m\u001b[1;33m\u001b[0m\u001b[0m\n",
      "\u001b[1;31mFileNotFoundError\u001b[0m: [Errno 2] No such file or directory: 'data/train_final2.csv'"
     ]
    }
   ],
   "source": [
    "train = pd.read_csv('data/train_final2.csv', encoding='cp949')\n",
    "train"
   ]
  },
  {
   "cell_type": "code",
   "execution_count": null,
   "metadata": {
    "ExecuteTime": {
     "end_time": "2021-06-30T01:43:52.549169Z",
     "start_time": "2021-06-30T01:43:48.486Z"
    }
   },
   "outputs": [],
   "source": [
    "info_compet = pd.read_csv('data/info_compet.csv', encoding='cp949')\n",
    "info_compet"
   ]
  },
  {
   "cell_type": "markdown",
   "metadata": {},
   "source": [
    "# target별 데이터셋 분할"
   ]
  },
  {
   "cell_type": "code",
   "execution_count": null,
   "metadata": {
    "ExecuteTime": {
     "end_time": "2021-06-30T01:43:52.551133Z",
     "start_time": "2021-06-30T01:43:48.495Z"
    }
   },
   "outputs": [],
   "source": [
    "# 각 타겟별 데이터셋 분할\n",
    "train_1 = train[['ds','사용자']].copy()\n",
    "train_2 = train[['ds','세션']].copy()\n",
    "train_3 = train[['ds','신규방문자']].copy()\n",
    "train_4 = train[['ds','페이지뷰']].copy()"
   ]
  },
  {
   "cell_type": "code",
   "execution_count": null,
   "metadata": {
    "ExecuteTime": {
     "end_time": "2021-06-30T01:43:52.553127Z",
     "start_time": "2021-06-30T01:43:48.500Z"
    }
   },
   "outputs": [],
   "source": [
    "# prophet 모델을 학습을 위해 컬럼 이름 변경\n",
    "train_1.columns = ['ds','y']\n",
    "train_2.columns = ['ds','y']\n",
    "train_3.columns = ['ds','y']\n",
    "train_4.columns = ['ds','y']"
   ]
  },
  {
   "cell_type": "markdown",
   "metadata": {},
   "source": [
    "# prophet 모델의 holiday 특성을 반영할 변수 생성\n",
    "- holidays dataframe의 holiday columns에 각 event 넣기  \n",
    "    - holiday: event name\n",
    "    - ds: ds\n",
    "- 주말에 낮은 경향성을 보이는 것은 prophet 모델의 weekly_seasonality가 잡아줌\n",
    "- 따라서 공휴일, 대회 시작일의 회귀 + 상금, 대회 시작/종료일 2개인 날, 그 외 일반 event일만 holidyas df에 담아주기"
   ]
  },
  {
   "cell_type": "markdown",
   "metadata": {},
   "source": [
    "## legal_holiday"
   ]
  },
  {
   "cell_type": "code",
   "execution_count": null,
   "metadata": {
    "ExecuteTime": {
     "end_time": "2021-06-30T01:43:52.556116Z",
     "start_time": "2021-06-30T01:43:48.506Z"
    }
   },
   "outputs": [],
   "source": [
    "# 법정 공휴일 df - 수기입력\n",
    "legal_holiday = pd.DataFrame({\n",
    "'holiday': 'legal_holiday',\n",
    "'ds': pd.to_datetime(['2018-09-23',\n",
    "                         '2018-09-24',\n",
    "                         '2018-09-25',\n",
    "                         '2018-09-26',\n",
    "                         '2018-10-03',\n",
    "                         '2018-10-09',\n",
    "                         '2018-12-25',\n",
    "                         '2019-01-01',\n",
    "                         '2019-02-04',\n",
    "                         '2019-02-05',\n",
    "                         '2019-02-06',\n",
    "                         '2019-03-01',\n",
    "                         '2019-05-05',\n",
    "                         '2019-05-06',\n",
    "                         '2019-05-12',\n",
    "                         '2019-06-06',\n",
    "                         '2019-08-15',\n",
    "                         '2019-09-12',\n",
    "                         '2019-09-13',\n",
    "                         '2019-09-14',\n",
    "                         '2019-10-03',\n",
    "                         '2019-10-09',\n",
    "                         '2019-12-25',\n",
    "                         '2020-01-01',\n",
    "                         '2020-01-24',\n",
    "                         '2020-01-25',\n",
    "                         '2020-01-26',\n",
    "                         '2020-01-27',\n",
    "                         '2020-03-01',\n",
    "                         '2020-05-05',\n",
    "                         '2020-04-15',\n",
    "                         '2020-04-30',\n",
    "                         '2020-06-06',\n",
    "                         '2020-08-15',\n",
    "                         '2020-09-30',\n",
    "                         '2020-10-01',\n",
    "                         '2020-10-02',\n",
    "                         '2020-10-03',\n",
    "                         '2020-10-09',\n",
    "                         '2020-12-25',\n",
    "                         '2021-01-01']),\n",
    "\n",
    "})"
   ]
  },
  {
   "cell_type": "markdown",
   "metadata": {},
   "source": [
    "## period_start\n",
    "- 대회 시작일(주말/공휴일인 날 포함) "
   ]
  },
  {
   "cell_type": "code",
   "execution_count": null,
   "metadata": {
    "ExecuteTime": {
     "end_time": "2021-06-30T01:43:52.558116Z",
     "start_time": "2021-06-30T01:43:48.511Z"
    },
    "scrolled": true
   },
   "outputs": [],
   "source": [
    "# period_start 해당하는 기존 train범위  + 예측 대상 범위 (2020-12-09 ~ 2021-01-08)의 대회 날짜 추가\n",
    "list1 = list(train[(train['period_start'] == 1) | (train['period_start'] == 3)]['ds']) + ['2020-12-09','2020-12-14','2021-01-06']\n",
    "list1"
   ]
  },
  {
   "cell_type": "code",
   "execution_count": null,
   "metadata": {
    "ExecuteTime": {
     "end_time": "2021-06-30T01:43:52.560106Z",
     "start_time": "2021-06-30T01:43:48.516Z"
    }
   },
   "outputs": [],
   "source": [
    "# df 생성\n",
    "period_start = pd.DataFrame({\n",
    "    'holiday': 'period_start',\n",
    "    'ds': pd.to_datetime(list1)})"
   ]
  },
  {
   "cell_type": "code",
   "execution_count": null,
   "metadata": {
    "ExecuteTime": {
     "end_time": "2021-06-30T01:43:52.563098Z",
     "start_time": "2021-06-30T01:43:48.522Z"
    },
    "scrolled": true
   },
   "outputs": [],
   "source": [
    "period_start"
   ]
  },
  {
   "cell_type": "markdown",
   "metadata": {},
   "source": [
    "## period_start2\n",
    "- 같은 날 대회 2개 개최된 날"
   ]
  },
  {
   "cell_type": "code",
   "execution_count": null,
   "metadata": {
    "ExecuteTime": {
     "end_time": "2021-06-30T01:43:52.566094Z",
     "start_time": "2021-06-30T01:43:48.527Z"
    },
    "scrolled": true
   },
   "outputs": [],
   "source": [
    "# period_start_high2에 해당하는 기존 train범위  + 예측 대상 범위 (2020-12-09 ~ 2021-01-08)의 대회 날짜 추가\n",
    "list1 = list(train[(train['period_start'] == 2)]['ds'])\n",
    "list1"
   ]
  },
  {
   "cell_type": "code",
   "execution_count": null,
   "metadata": {
    "ExecuteTime": {
     "end_time": "2021-06-30T01:43:52.569082Z",
     "start_time": "2021-06-30T01:43:48.531Z"
    }
   },
   "outputs": [],
   "source": [
    "# df 생성\n",
    "period_start2 = pd.DataFrame({\n",
    "    'holiday': 'period_start2',\n",
    "    'ds': pd.to_datetime(list1)})"
   ]
  },
  {
   "cell_type": "code",
   "execution_count": null,
   "metadata": {
    "ExecuteTime": {
     "end_time": "2021-06-30T01:43:52.571077Z",
     "start_time": "2021-06-30T01:43:48.536Z"
    },
    "scrolled": true
   },
   "outputs": [],
   "source": [
    "period_start2"
   ]
  },
  {
   "cell_type": "markdown",
   "metadata": {},
   "source": [
    "## period_start_low\n",
    "- 대회 유형 '회귀' & 상금 250만원 이하에 해당하는 대회 시작일"
   ]
  },
  {
   "cell_type": "code",
   "execution_count": null,
   "metadata": {
    "ExecuteTime": {
     "end_time": "2021-06-30T01:43:52.573074Z",
     "start_time": "2021-06-30T01:43:48.542Z"
    }
   },
   "outputs": [],
   "source": [
    "# 해당 조건에 해당하는 기존 train범위  + 예측 대상 범위 (2020-12-09 ~ 2021-01-08)의 대회 날짜 추가\n",
    "list1 = list(train[train['period_start'] == 4]['ds']) + ['2020-12-18']\n",
    "list1"
   ]
  },
  {
   "cell_type": "code",
   "execution_count": null,
   "metadata": {
    "ExecuteTime": {
     "end_time": "2021-06-30T01:43:52.576067Z",
     "start_time": "2021-06-30T01:43:48.546Z"
    }
   },
   "outputs": [],
   "source": [
    "# df 생성\n",
    "period_start_low = pd.DataFrame({\n",
    "    'holiday': 'period_start_low',\n",
    "    'ds': pd.to_datetime(list1)})"
   ]
  },
  {
   "cell_type": "code",
   "execution_count": null,
   "metadata": {
    "ExecuteTime": {
     "end_time": "2021-06-30T01:43:52.579056Z",
     "start_time": "2021-06-30T01:43:48.554Z"
    }
   },
   "outputs": [],
   "source": [
    "period_start_low"
   ]
  },
  {
   "cell_type": "markdown",
   "metadata": {},
   "source": [
    "## period_end\n",
    "- 대회 종료일(주말/공휴일인 날 포함)"
   ]
  },
  {
   "cell_type": "code",
   "execution_count": null,
   "metadata": {
    "ExecuteTime": {
     "end_time": "2021-06-30T01:43:52.581050Z",
     "start_time": "2021-06-30T01:43:48.559Z"
    },
    "scrolled": true
   },
   "outputs": [],
   "source": [
    "# # period_end_high 해당하는 기존 train범위  + 예측 대상 범위 (2020-12-09 ~ 2021-01-08)의 대회 날짜 추가\n",
    "list1 = list(train[(train['period_end'] == 1) | (train['period_end'] == 3)]['ds']) + ['2020-12-27','2020-12-28']\n",
    "list1"
   ]
  },
  {
   "cell_type": "code",
   "execution_count": null,
   "metadata": {
    "ExecuteTime": {
     "end_time": "2021-06-30T01:43:52.583045Z",
     "start_time": "2021-06-30T01:43:48.564Z"
    }
   },
   "outputs": [],
   "source": [
    "# df 생성\n",
    "period_end = pd.DataFrame({\n",
    "    'holiday': 'period_end',\n",
    "    'ds': pd.to_datetime(list1)})"
   ]
  },
  {
   "cell_type": "code",
   "execution_count": null,
   "metadata": {
    "ExecuteTime": {
     "end_time": "2021-06-30T01:43:52.585042Z",
     "start_time": "2021-06-30T01:43:48.569Z"
    },
    "scrolled": true
   },
   "outputs": [],
   "source": [
    "period_end"
   ]
  },
  {
   "cell_type": "markdown",
   "metadata": {},
   "source": [
    "## period_end2\n",
    "- 대회 2개 마감되는 날"
   ]
  },
  {
   "cell_type": "code",
   "execution_count": null,
   "metadata": {
    "ExecuteTime": {
     "end_time": "2021-06-30T01:43:52.587042Z",
     "start_time": "2021-06-30T01:43:48.575Z"
    },
    "scrolled": true
   },
   "outputs": [],
   "source": [
    "# period_end_high2 해당하는 기존 train범위  + 예측 대상 범위 (2020-12-09 ~ 2021-01-08)의 대회 날짜 추가\n",
    "list1 = list(train[train['period_end'] == 2]['ds']) + ['2020-12-09','2020-12-31']\n",
    "list1"
   ]
  },
  {
   "cell_type": "code",
   "execution_count": null,
   "metadata": {
    "ExecuteTime": {
     "end_time": "2021-06-30T01:43:52.590027Z",
     "start_time": "2021-06-30T01:43:48.579Z"
    }
   },
   "outputs": [],
   "source": [
    "# df 생성\n",
    "period_end2 = pd.DataFrame({\n",
    "    'holiday': 'period_end2',\n",
    "    'ds': pd.to_datetime(list1)})"
   ]
  },
  {
   "cell_type": "code",
   "execution_count": null,
   "metadata": {
    "ExecuteTime": {
     "end_time": "2021-06-30T01:43:52.592021Z",
     "start_time": "2021-06-30T01:43:48.584Z"
    },
    "scrolled": true
   },
   "outputs": [],
   "source": [
    "period_end2"
   ]
  },
  {
   "cell_type": "markdown",
   "metadata": {},
   "source": [
    "## merge_deadline\n",
    "- 대회 팀병합 마감일(주말/공휴일인 날 포함)"
   ]
  },
  {
   "cell_type": "code",
   "execution_count": null,
   "metadata": {
    "ExecuteTime": {
     "end_time": "2021-06-30T01:43:52.595012Z",
     "start_time": "2021-06-30T01:43:48.589Z"
    },
    "scrolled": true
   },
   "outputs": [],
   "source": [
    "# merge_deadline_high에 해당하는 기존 train범위  + 예측 대상 범위 (2020-12-09 ~ 2021-01-08)의 대회 날짜 추가\n",
    "list1 = list(train[(train['merge_deadline'] == 1) | (train['merge_deadline'] == 2) | (train['merge_deadline'] == 3)]['ds']) + ['2020-12-15','2020-12-18','2020-12-23','2020-12-31']\n",
    "list1"
   ]
  },
  {
   "cell_type": "code",
   "execution_count": null,
   "metadata": {
    "ExecuteTime": {
     "end_time": "2021-06-30T01:43:52.598005Z",
     "start_time": "2021-06-30T01:43:48.593Z"
    }
   },
   "outputs": [],
   "source": [
    "# df 생성\n",
    "merge_deadline = pd.DataFrame({\n",
    "    'holiday': 'merge_deadline',\n",
    "    'ds': pd.to_datetime(list1)})"
   ]
  },
  {
   "cell_type": "code",
   "execution_count": null,
   "metadata": {
    "ExecuteTime": {
     "end_time": "2021-06-30T01:43:52.601995Z",
     "start_time": "2021-06-30T01:43:48.598Z"
    },
    "scrolled": true
   },
   "outputs": [],
   "source": [
    "merge_deadline"
   ]
  },
  {
   "cell_type": "markdown",
   "metadata": {},
   "source": [
    "## hoidays dataframe에 모두 합치기"
   ]
  },
  {
   "cell_type": "code",
   "execution_count": null,
   "metadata": {
    "ExecuteTime": {
     "end_time": "2021-06-30T01:43:52.604988Z",
     "start_time": "2021-06-30T01:43:48.603Z"
    }
   },
   "outputs": [],
   "source": [
    "# 모델의 holidays 매개변수에 할당할 hoidays df\n",
    "holidays = pd.concat((legal_holiday,\n",
    "                     period_start, period_start2, period_start_low,\n",
    "                     period_end, period_end2,\n",
    "                     merge_deadline))\n",
    "holidays"
   ]
  },
  {
   "cell_type": "code",
   "execution_count": null,
   "metadata": {
    "ExecuteTime": {
     "end_time": "2021-06-30T01:43:52.610971Z",
     "start_time": "2021-06-30T01:43:48.607Z"
    }
   },
   "outputs": [],
   "source": [
    "holidays['holiday'].value_counts().sort_index()"
   ]
  },
  {
   "cell_type": "markdown",
   "metadata": {},
   "source": [
    "# 모델 학습 및 예측\n",
    "- 교차검증\n",
    "    - initial: 예측 전, 초기 훈련 기간\n",
    "    - period: 컷오프 날짜 사이의 간격(예측 간격)\n",
    "        - cutoff point는 initial 과 horizon을 구분해 주는 날짜\n",
    "    - horizon: 예측 성능 평가 범위(총 예측 수행 기간)"
   ]
  },
  {
   "cell_type": "markdown",
   "metadata": {},
   "source": [
    "## 사용자"
   ]
  },
  {
   "cell_type": "markdown",
   "metadata": {},
   "source": [
    "### 교차검증을 통한 최적 매개변수 탐색"
   ]
  },
  {
   "cell_type": "code",
   "execution_count": null,
   "metadata": {
    "ExecuteTime": {
     "end_time": "2021-06-30T01:43:52.612966Z",
     "start_time": "2021-06-30T01:43:48.615Z"
    },
    "scrolled": true
   },
   "outputs": [],
   "source": [
    "# # 최적의 매개변수 찾기 - 교차 검증 및 rmse \n",
    "\n",
    "# # 예측값 상한,하한 제어 \n",
    "# train_1['cap'] = 6000\n",
    "# train_1['floor'] = 0\n",
    "\n",
    "# best_score = 5000\n",
    "\n",
    "# for changepoint_prior_scale in tqdm([0.0005, 0.001, 0.0025, 0.005, 0.008, 0.01]):\n",
    "#     for seasonality_prior_scale in [0.005, 0.01, 0.015, 0.02, 0.25, 0.03]:\n",
    "#         for holidays_prior_scale in [0.01, 0.05, 0.1, 0.5, 0.8, 1, 5]:\n",
    "#             # 매개변수 각 조합에 대해 frophet 훈련\n",
    "#             m = Prophet(changepoint_prior_scale=changepoint_prior_scale, \n",
    "#                         growth='logistic',      # 상한, 하한 제한\n",
    "#                         seasonality_mode='multiplicative',\n",
    "#                         yearly_seasonality=True,  # True\n",
    "#                         weekly_seasonality=20, \n",
    "#                         daily_seasonality=False,  # false\n",
    "#                         seasonality_prior_scale = seasonality_prior_scale,\n",
    "#                         holidays=holidays,\n",
    "#                         holidays_prior_scale=holidays_prior_scale, \n",
    "#                        )\n",
    "#             m.fit(train_1)\n",
    "#             # 교차 검증 적용\n",
    "#             df_cv = cross_validation(m, initial='792 days', period='30 days', horizon='30 days')\n",
    "#             df_p = performance_metrics(df_cv)\n",
    "#             # 교차 검증 rmse 평균을 계산\n",
    "#             score = df_p['rmse'].mean()\n",
    "#             # rmse가 best_score보다 낮으면, 매개변수와 함께 기록\n",
    "#             if score < best_score:\n",
    "#                 best_score = score\n",
    "#                 best_parameters = {'changepoint_prior_scale':changepoint_prior_scale, 'seasonality_prior_scale':seasonality_prior_scale,\n",
    "#                                   'holidays_prior_scale':holidays_prior_scale}\n",
    "\n",
    "# print('best rmse score(in cross_val): ', best_score)\n",
    "# print('최적의 매개변수: ', best_parameters)"
   ]
  },
  {
   "cell_type": "markdown",
   "metadata": {},
   "source": [
    "### 최적 매개변수로 모델링 및 예측"
   ]
  },
  {
   "cell_type": "code",
   "execution_count": null,
   "metadata": {
    "ExecuteTime": {
     "end_time": "2021-06-30T01:43:52.616958Z",
     "start_time": "2021-06-30T01:43:48.621Z"
    }
   },
   "outputs": [],
   "source": [
    "# 최적 매개변수로 모델 생성\n",
    "train_1['cap'] = 6000\n",
    "train_1['floor'] = 0\n",
    "\n",
    "m = Prophet(changepoint_prior_scale=0.0025, \n",
    "                        growth='logistic', \n",
    "            \n",
    "                        seasonality_mode='multiplicative',\n",
    "                        yearly_seasonality=True,\n",
    "                        weekly_seasonality=True,  \n",
    "                        daily_seasonality=False,\n",
    "                        seasonality_prior_scale = 0.02,\n",
    "            \n",
    "                        holidays=holidays,\n",
    "                        holidays_prior_scale=0.1,  \n",
    "                       )\n",
    "m.fit(train_1)\n",
    "\n",
    "# 예측\n",
    "future = m.make_future_dataframe(periods=31)\n",
    "# future에도 동일하게 하한 제한 지정\n",
    "future['cap'] = 6000\n",
    "future['floor'] = 0   \n",
    "\n",
    "forecast = m.predict(future)\n",
    "forecast.tail()"
   ]
  },
  {
   "cell_type": "code",
   "execution_count": null,
   "metadata": {
    "ExecuteTime": {
     "end_time": "2021-06-30T01:43:52.618949Z",
     "start_time": "2021-06-30T01:43:48.626Z"
    }
   },
   "outputs": [],
   "source": [
    "forecast.columns"
   ]
  },
  {
   "cell_type": "code",
   "execution_count": null,
   "metadata": {
    "ExecuteTime": {
     "end_time": "2021-06-30T01:43:52.620943Z",
     "start_time": "2021-06-30T01:43:48.632Z"
    }
   },
   "outputs": [],
   "source": [
    "# forecast 결과 확인\n",
    "forecast[['ds','yhat','yhat_lower','yhat_upper']].tail()"
   ]
  },
  {
   "cell_type": "code",
   "execution_count": null,
   "metadata": {
    "ExecuteTime": {
     "end_time": "2021-06-30T01:43:52.623935Z",
     "start_time": "2021-06-30T01:43:48.638Z"
    }
   },
   "outputs": [],
   "source": [
    "fig2 = m.plot_components(forecast)"
   ]
  },
  {
   "cell_type": "code",
   "execution_count": null,
   "metadata": {
    "ExecuteTime": {
     "end_time": "2021-06-30T01:43:52.625931Z",
     "start_time": "2021-06-30T01:43:48.643Z"
    }
   },
   "outputs": [],
   "source": [
    "# 시각화 - 빨간 점선: ChangePoint, 빨간 실선:Trend\n",
    "fig = m.plot(forecast)\n",
    "a = add_changepoints_to_plot(fig.gca(), m, forecast)"
   ]
  },
  {
   "cell_type": "code",
   "execution_count": null,
   "metadata": {
    "ExecuteTime": {
     "end_time": "2021-06-30T01:43:52.628927Z",
     "start_time": "2021-06-30T01:43:48.649Z"
    }
   },
   "outputs": [],
   "source": [
    "forecast"
   ]
  },
  {
   "cell_type": "code",
   "execution_count": null,
   "metadata": {
    "ExecuteTime": {
     "end_time": "2021-06-30T01:43:52.633909Z",
     "start_time": "2021-06-30T01:43:48.654Z"
    },
    "scrolled": true
   },
   "outputs": [],
   "source": [
    "# holidays의 각 feature가 주는 영향 확인\n",
    "forecast[(forecast['period_start'] + forecast['period_start2']+ forecast['period_start_low']).abs() > 0][['ds', 'period_start','period_start2','period_start_low']]"
   ]
  },
  {
   "cell_type": "code",
   "execution_count": null,
   "metadata": {
    "ExecuteTime": {
     "end_time": "2021-06-30T01:43:52.635905Z",
     "start_time": "2021-06-30T01:43:48.659Z"
    },
    "scrolled": true
   },
   "outputs": [],
   "source": [
    "# holidays의 각 feature가 주는 영향 확인\n",
    "forecast[(forecast['period_end'] + forecast['period_end2']).abs() > 0][['ds', 'period_end','period_end2']]"
   ]
  },
  {
   "cell_type": "code",
   "execution_count": null,
   "metadata": {
    "ExecuteTime": {
     "end_time": "2021-06-30T01:43:52.637909Z",
     "start_time": "2021-06-30T01:43:48.665Z"
    },
    "scrolled": true
   },
   "outputs": [],
   "source": [
    "# holidays의 각 feature가 주는 영향 확인\n",
    "forecast[(forecast['merge_deadline']).abs() > 0][['ds', 'merge_deadline']]"
   ]
  },
  {
   "cell_type": "code",
   "execution_count": null,
   "metadata": {
    "ExecuteTime": {
     "end_time": "2021-06-30T01:43:52.639893Z",
     "start_time": "2021-06-30T01:43:48.671Z"
    },
    "scrolled": true
   },
   "outputs": [],
   "source": [
    "# holidays의 각 feature가 주는 영향 확인\n",
    "forecast[forecast['legal_holiday'].abs() > 0][['ds', 'legal_holiday']]"
   ]
  },
  {
   "cell_type": "code",
   "execution_count": null,
   "metadata": {
    "ExecuteTime": {
     "end_time": "2021-06-30T01:43:52.641888Z",
     "start_time": "2021-06-30T01:43:48.675Z"
    }
   },
   "outputs": [],
   "source": [
    "forecast1 = forecast[['ds','yhat']].copy()\n",
    "forecast1"
   ]
  },
  {
   "cell_type": "markdown",
   "metadata": {},
   "source": [
    "## 세션"
   ]
  },
  {
   "cell_type": "markdown",
   "metadata": {},
   "source": [
    "### 교차검증을 통한 최적 매개변수 탐색"
   ]
  },
  {
   "cell_type": "code",
   "execution_count": null,
   "metadata": {
    "ExecuteTime": {
     "end_time": "2021-06-30T01:43:52.643884Z",
     "start_time": "2021-06-30T01:43:48.681Z"
    }
   },
   "outputs": [],
   "source": [
    "# # 최적의 매개변수 찾기 - 교차 검증 및 rmse \n",
    "\n",
    "# # 예측값 상한,하한 제어 \n",
    "# train_2['cap'] = 6000\n",
    "# train_2['floor'] = 0\n",
    "\n",
    "# best_score = 5000\n",
    "\n",
    "# for changepoint_prior_scale in tqdm([0.0005, 0.001, 0.0025, 0.005, 0.0075, 0.01, 0.1]):\n",
    "#     for seasonality_prior_scale in [0.01, 0.015, 0.03, 0.05, 0.1, 0.5 ,1]:\n",
    "#         for holidays_prior_scale in [0.05, 0.08, 0.1, 0.5, 1, 5, 10]:\n",
    "#             # 매개변수 각 조합에 대해 frophet 훈련\n",
    "#             m = Prophet(changepoint_prior_scale=changepoint_prior_scale, \n",
    "#                         growth='logistic',      # 상한, 하한 제한\n",
    "#                         seasonality_mode='multiplicative',\n",
    "#                         yearly_seasonality=True,  # True\n",
    "#                         weekly_seasonality=20, \n",
    "#                         daily_seasonality=False,  # false\n",
    "#                         seasonality_prior_scale = seasonality_prior_scale,\n",
    "#                         holidays=holidays,\n",
    "#                         holidays_prior_scale=holidays_prior_scale, \n",
    "#                        )\n",
    "#             m.fit(train_2)\n",
    "#             # 교차 검증 적용 \n",
    "#             df_cv = cross_validation(m, initial='731 days', period='30 days', horizon='30 days')\n",
    "#             df_p = performance_metrics(df_cv)\n",
    "#             # 교차 검증 rmse 평균을 계산\n",
    "#             score = df_p['rmse'].mean()\n",
    "#             # rmse가 best_score보다 낮으면, 매개변수와 함께 기록\n",
    "#             if score < best_score:\n",
    "#                 best_score = score\n",
    "#                 best_parameters = {'changepoint_prior_scale':changepoint_prior_scale, 'seasonality_prior_scale':seasonality_prior_scale,\n",
    "#                                   'holidays_prior_scale':holidays_prior_scale}\n",
    "\n",
    "# print('best rmse score(in cross_val): ', best_score)\n",
    "# print('최적의 매개변수: ', best_parameters)"
   ]
  },
  {
   "cell_type": "markdown",
   "metadata": {},
   "source": [
    "### 최적 매개변수로 모델링 및 예측"
   ]
  },
  {
   "cell_type": "code",
   "execution_count": null,
   "metadata": {
    "ExecuteTime": {
     "end_time": "2021-06-30T01:43:52.646874Z",
     "start_time": "2021-06-30T01:43:48.692Z"
    }
   },
   "outputs": [],
   "source": [
    "# 최적 매개변수로 모델 다시 생성\n",
    "train_2['cap'] = 6000\n",
    "train_2['floor'] = 0\n",
    "\n",
    "m = Prophet(changepoint_prior_scale=0.005, \n",
    "                        growth='logistic',      \n",
    "                        seasonality_mode='multiplicative',\n",
    "                        yearly_seasonality=True,\n",
    "                        weekly_seasonality=True, \n",
    "                        daily_seasonality=False,\n",
    "                        seasonality_prior_scale = 0.015,\n",
    "                        holidays=holidays,\n",
    "                        holidays_prior_scale=0.08,  \n",
    "                       )\n",
    "m.fit(train_2)\n",
    "\n",
    "# 예측\n",
    "future = m.make_future_dataframe(periods=31)\n",
    "# future에도 동일하게 하한 제한 지정\n",
    "future['cap'] = 6000\n",
    "future['floor'] = 0   \n",
    "\n",
    "forecast = m.predict(future)\n",
    "forecast.tail()"
   ]
  },
  {
   "cell_type": "code",
   "execution_count": null,
   "metadata": {
    "ExecuteTime": {
     "end_time": "2021-06-30T01:43:52.649866Z",
     "start_time": "2021-06-30T01:43:48.699Z"
    }
   },
   "outputs": [],
   "source": [
    "# forecast 결과 확인\n",
    "forecast[['ds','yhat','yhat_lower','yhat_upper']].tail()"
   ]
  },
  {
   "cell_type": "code",
   "execution_count": null,
   "metadata": {
    "ExecuteTime": {
     "end_time": "2021-06-30T01:43:52.652867Z",
     "start_time": "2021-06-30T01:43:48.704Z"
    }
   },
   "outputs": [],
   "source": [
    "fig2 = m.plot_components(forecast)"
   ]
  },
  {
   "cell_type": "code",
   "execution_count": null,
   "metadata": {
    "ExecuteTime": {
     "end_time": "2021-06-30T01:43:52.654855Z",
     "start_time": "2021-06-30T01:43:48.708Z"
    }
   },
   "outputs": [],
   "source": [
    "# 시각화 - 빨간 점선: ChangePoint, 빨간 실선:Trend\n",
    "\n",
    "fig = m.plot(forecast)\n",
    "a = add_changepoints_to_plot(fig.gca(), m, forecast)"
   ]
  },
  {
   "cell_type": "code",
   "execution_count": null,
   "metadata": {
    "ExecuteTime": {
     "end_time": "2021-06-30T01:43:52.656846Z",
     "start_time": "2021-06-30T01:43:48.715Z"
    }
   },
   "outputs": [],
   "source": [
    "forecast2 = forecast[['ds','yhat']].copy()\n",
    "forecast2"
   ]
  },
  {
   "cell_type": "markdown",
   "metadata": {},
   "source": [
    "## 신규방문자"
   ]
  },
  {
   "cell_type": "markdown",
   "metadata": {},
   "source": [
    "### 교차검증을 통한 최적 매개변수 탐색"
   ]
  },
  {
   "cell_type": "code",
   "execution_count": null,
   "metadata": {
    "ExecuteTime": {
     "end_time": "2021-06-30T01:43:52.659839Z",
     "start_time": "2021-06-30T01:43:48.722Z"
    }
   },
   "outputs": [],
   "source": [
    "# # 최적의 매개변수 찾기 - 교차 검증 및 rmse \n",
    "\n",
    "# # 예측값 상한,하한 제어 \n",
    "# train_3['cap'] = 2000\n",
    "# train_3['floor'] = 0\n",
    "\n",
    "# best_score = 5000\n",
    "\n",
    "# for changepoint_prior_scale in tqdm([0.003, 0.005, 0.008, 0.01, 0.015, 0.02]):\n",
    "#     for seasonality_prior_scale in [0.005, 0.01, 0.02, 0.03, 0.05, 0.075, 0.1]:\n",
    "#         for holidays_prior_scale in [0.025, 0.05, 0.075, 0.1, 0.3, 0.5]:\n",
    "#             # 매개변수 각 조합에 대해 frophet 훈련\n",
    "#             m = Prophet(changepoint_prior_scale=changepoint_prior_scale, \n",
    "#                         growth='logistic',      # 상한, 하한 제한\n",
    "#                         seasonality_mode='multiplicative',\n",
    "#                         yearly_seasonality=True,  # True\n",
    "#                         weekly_seasonality=20, \n",
    "#                         daily_seasonality=False,  # false\n",
    "#                         seasonality_prior_scale = seasonality_prior_scale,\n",
    "#                         holidays=holidays,\n",
    "#                         holidays_prior_scale=holidays_prior_scale, \n",
    "#                        )\n",
    "#             m.fit(train_3)\n",
    "#             # 교차 검증 적용 \n",
    "#             df_cv = cross_validation(m, initial='731 days', period='30 days', horizon='30 days')\n",
    "#             df_p = performance_metrics(df_cv)\n",
    "#             # 교차 검증 rmse 평균을 계산\n",
    "#             score = df_p['rmse'].mean()\n",
    "#             # rmse가 best_score보다 낮으면, 매개변수와 함께 기록\n",
    "#             if score < best_score:\n",
    "#                 best_score = score\n",
    "#                 best_parameters = {'changepoint_prior_scale':changepoint_prior_scale, 'seasonality_prior_scale':seasonality_prior_scale,\n",
    "#                                   'holidays_prior_scale':holidays_prior_scale}\n",
    "\n",
    "# print('best rmse score(in cross_val): ', best_score)\n",
    "# print('최적의 매개변수: ', best_parameters)"
   ]
  },
  {
   "cell_type": "markdown",
   "metadata": {},
   "source": [
    "### 최적 매개변수로 모델링 및 예측"
   ]
  },
  {
   "cell_type": "code",
   "execution_count": null,
   "metadata": {
    "ExecuteTime": {
     "end_time": "2021-06-30T01:43:52.661834Z",
     "start_time": "2021-06-30T01:43:48.730Z"
    }
   },
   "outputs": [],
   "source": [
    "# 최적 매개변수로 모델 다시 생성\n",
    "train_3['cap'] = 2000\n",
    "train_3['floor'] = 0\n",
    "\n",
    "m = Prophet(changepoint_prior_scale=0.015, \n",
    "                        growth='logistic',     \n",
    "                        seasonality_mode='multiplicative',\n",
    "                        yearly_seasonality=True,\n",
    "                        weekly_seasonality=True,  \n",
    "                        daily_seasonality=False,\n",
    "                        seasonality_prior_scale = 0.03,\n",
    "                        holidays=holidays,\n",
    "                        holidays_prior_scale=0.1,  \n",
    "                       )\n",
    "m.fit(train_3)\n",
    "\n",
    "# 예측\n",
    "future = m.make_future_dataframe(periods=31)\n",
    "# future에도 동일하게 하한 제한 지정\n",
    "future['cap'] = 2000\n",
    "future['floor'] = 0   \n",
    "\n",
    "forecast = m.predict(future)\n",
    "forecast.tail()"
   ]
  },
  {
   "cell_type": "code",
   "execution_count": null,
   "metadata": {
    "ExecuteTime": {
     "end_time": "2021-06-30T01:43:52.664826Z",
     "start_time": "2021-06-30T01:43:48.736Z"
    }
   },
   "outputs": [],
   "source": [
    "# forecast 결과 확인\n",
    "forecast[['ds','yhat','yhat_lower','yhat_upper']].tail()"
   ]
  },
  {
   "cell_type": "code",
   "execution_count": null,
   "metadata": {
    "ExecuteTime": {
     "end_time": "2021-06-30T01:43:52.666821Z",
     "start_time": "2021-06-30T01:43:48.741Z"
    }
   },
   "outputs": [],
   "source": [
    "fig2 = m.plot_components(forecast)"
   ]
  },
  {
   "cell_type": "code",
   "execution_count": null,
   "metadata": {
    "ExecuteTime": {
     "end_time": "2021-06-30T01:43:52.668816Z",
     "start_time": "2021-06-30T01:43:48.749Z"
    }
   },
   "outputs": [],
   "source": [
    "# 시각화 - 빨간 점선: ChangePoint, 빨간 실선:Trend\n",
    "\n",
    "fig = m.plot(forecast)\n",
    "a = add_changepoints_to_plot(fig.gca(), m, forecast)"
   ]
  },
  {
   "cell_type": "code",
   "execution_count": null,
   "metadata": {
    "ExecuteTime": {
     "end_time": "2021-06-30T01:43:52.671808Z",
     "start_time": "2021-06-30T01:43:48.754Z"
    }
   },
   "outputs": [],
   "source": [
    "forecast3 = forecast[['ds','yhat']].copy()\n",
    "forecast3"
   ]
  },
  {
   "cell_type": "markdown",
   "metadata": {},
   "source": [
    "## 페이지뷰"
   ]
  },
  {
   "cell_type": "markdown",
   "metadata": {},
   "source": [
    "### 교차검증을 통한 최적 매개변수 탐색"
   ]
  },
  {
   "cell_type": "code",
   "execution_count": null,
   "metadata": {
    "ExecuteTime": {
     "end_time": "2021-06-30T01:43:52.674800Z",
     "start_time": "2021-06-30T01:43:48.759Z"
    }
   },
   "outputs": [],
   "source": [
    "# # 최적의 매개변수 찾기 - 교차 검증 및 rmse \n",
    "\n",
    "# # 예측값 상한,하한 제어 \n",
    "# train_4['cap'] = 180000\n",
    "# train_4['floor'] = 0\n",
    "\n",
    "# best_score = 100000\n",
    "\n",
    "# for changepoint_prior_scale in tqdm([0.001,0.0025, 0.003, 0.005, 0.1]):\n",
    "#     for seasonality_prior_scale in [ 0.02, 0.03, 0.05, 0.075, 0.1]:\n",
    "#         for holidays_prior_scale in [0.01, 0.05, 0.1, 0.5, 1, 5, 10]:\n",
    "#             # 매개변수 각 조합에 대해 frophet 훈련\n",
    "#             m = Prophet(changepoint_prior_scale=changepoint_prior_scale, \n",
    "#                         growth='logistic',      # 상한, 하한 제한\n",
    "#                         seasonality_mode='multiplicative',\n",
    "#                         yearly_seasonality=True,  # True\n",
    "#                         weekly_seasonality=20, \n",
    "#                         daily_seasonality=False,  # false\n",
    "#                         seasonality_prior_scale = seasonality_prior_scale,\n",
    "#                         holidays=holidays,\n",
    "#                         holidays_prior_scale=holidays_prior_scale, \n",
    "#                        )\n",
    "#             m.fit(train_4)\n",
    "#             # 교차 검증 적용 \n",
    "#             df_cv = cross_validation(m, initial='731 days', period='30 days', horizon='30 days')\n",
    "#             df_p = performance_metrics(df_cv)\n",
    "#             # 교차 검증 rmse 평균을 계산\n",
    "#             score = df_p['rmse'].mean()\n",
    "#             # rmse가 best_score보다 낮으면, 매개변수와 함께 기록\n",
    "#             if score < best_score:\n",
    "#                 best_score = score\n",
    "#                 best_parameters = {'changepoint_prior_scale':changepoint_prior_scale, 'seasonality_prior_scale':seasonality_prior_scale,\n",
    "#                                   'holidays_prior_scale':holidays_prior_scale}\n",
    "\n",
    "# print('best rmse score(in cross_val): ', best_score)\n",
    "# print('최적의 매개변수: ', best_parameters)"
   ]
  },
  {
   "cell_type": "markdown",
   "metadata": {},
   "source": [
    "### 최적 매개변수로 모델링 및 예측"
   ]
  },
  {
   "cell_type": "code",
   "execution_count": null,
   "metadata": {
    "ExecuteTime": {
     "end_time": "2021-06-30T01:43:52.676797Z",
     "start_time": "2021-06-30T01:43:48.765Z"
    }
   },
   "outputs": [],
   "source": [
    "# 최적 매개변수로 모델 다시 생성\n",
    "train_4['cap'] = 180000\n",
    "train_4['floor'] = 0\n",
    "\n",
    "m = Prophet(changepoint_prior_scale=0.003, \n",
    "                        growth='logistic',     \n",
    "                        seasonality_mode='multiplicative',\n",
    "                        yearly_seasonality=True,\n",
    "                        weekly_seasonality=True, \n",
    "                        daily_seasonality=False,\n",
    "                        seasonality_prior_scale = 0.03,\n",
    "                        holidays=holidays,\n",
    "                        holidays_prior_scale=5,\n",
    "                       )\n",
    "m.fit(train_4)\n",
    "\n",
    "# 예측\n",
    "future = m.make_future_dataframe(periods=31)\n",
    "# future에도 동일하게 하한 제한 지정\n",
    "future['cap'] = 180000\n",
    "future['floor'] = 0   \n",
    "\n",
    "forecast = m.predict(future)\n",
    "forecast.tail()"
   ]
  },
  {
   "cell_type": "code",
   "execution_count": null,
   "metadata": {
    "ExecuteTime": {
     "end_time": "2021-06-30T01:43:52.679786Z",
     "start_time": "2021-06-30T01:43:48.770Z"
    }
   },
   "outputs": [],
   "source": [
    "# forecast 결과 확인\n",
    "forecast[['ds','yhat','yhat_lower','yhat_upper']].tail()"
   ]
  },
  {
   "cell_type": "code",
   "execution_count": null,
   "metadata": {
    "ExecuteTime": {
     "end_time": "2021-06-30T01:43:52.681781Z",
     "start_time": "2021-06-30T01:43:48.774Z"
    }
   },
   "outputs": [],
   "source": [
    "fig2 = m.plot_components(forecast)"
   ]
  },
  {
   "cell_type": "code",
   "execution_count": null,
   "metadata": {
    "ExecuteTime": {
     "end_time": "2021-06-30T01:43:52.684774Z",
     "start_time": "2021-06-30T01:43:48.777Z"
    }
   },
   "outputs": [],
   "source": [
    "# 시각화 - 빨간 점선: ChangePoint, 빨간 실선:Trend\n",
    "fig = m.plot(forecast)\n",
    "a = add_changepoints_to_plot(fig.gca(), m, forecast)"
   ]
  },
  {
   "cell_type": "code",
   "execution_count": null,
   "metadata": {
    "ExecuteTime": {
     "end_time": "2021-06-30T01:43:52.687765Z",
     "start_time": "2021-06-30T01:43:48.782Z"
    }
   },
   "outputs": [],
   "source": [
    "forecast4 = forecast[['ds','yhat']].copy()\n",
    "forecast4"
   ]
  },
  {
   "cell_type": "markdown",
   "metadata": {},
   "source": [
    "# submission"
   ]
  },
  {
   "cell_type": "code",
   "execution_count": null,
   "metadata": {
    "ExecuteTime": {
     "end_time": "2021-06-30T01:43:52.690757Z",
     "start_time": "2021-06-30T01:43:48.787Z"
    }
   },
   "outputs": [],
   "source": [
    "# 예측 1~4 병합\n",
    "submission = pd.concat([forecast1,forecast2['yhat'],forecast3['yhat'],forecast4['yhat']], axis=1)\n",
    "submission"
   ]
  },
  {
   "cell_type": "code",
   "execution_count": null,
   "metadata": {
    "ExecuteTime": {
     "end_time": "2021-06-30T01:43:52.692752Z",
     "start_time": "2021-06-30T01:43:48.793Z"
    }
   },
   "outputs": [],
   "source": [
    "submission.columns= ['DateTime', '사용자', '세션', '신규방문자','페이지뷰']\n",
    "submission['사용자'] = submission['사용자'].astype(int)\n",
    "submission['세션'] = submission['세션'].astype(int)\n",
    "submission['신규방문자'] = submission['신규방문자'].astype(int)\n",
    "submission['페이지뷰'] = submission['페이지뷰'].astype(int)"
   ]
  },
  {
   "cell_type": "code",
   "execution_count": null,
   "metadata": {
    "ExecuteTime": {
     "end_time": "2021-06-30T01:43:52.694746Z",
     "start_time": "2021-06-30T01:43:48.797Z"
    }
   },
   "outputs": [],
   "source": [
    "# 2020-11-09 ~ 2021-01-08\n",
    "submission = submission.iloc[792:].copy()\n",
    "submission"
   ]
  },
  {
   "cell_type": "code",
   "execution_count": null,
   "metadata": {
    "ExecuteTime": {
     "end_time": "2021-06-30T01:43:52.697742Z",
     "start_time": "2021-06-30T01:43:48.802Z"
    }
   },
   "outputs": [],
   "source": [
    "submission.reset_index(inplace=True)\n",
    "submission.drop(['index'], axis=1, inplace=True)\n",
    "submission"
   ]
  },
  {
   "cell_type": "code",
   "execution_count": null,
   "metadata": {
    "ExecuteTime": {
     "end_time": "2021-06-30T01:43:52.699735Z",
     "start_time": "2021-06-30T01:43:48.805Z"
    }
   },
   "outputs": [],
   "source": [
    "submission.to_csv('submission/submission.csv', index = False, encoding = 'euc-kr')"
   ]
  }
 ],
 "metadata": {
  "kernelspec": {
   "display_name": "Python 3",
   "language": "python",
   "name": "python3"
  },
  "language_info": {
   "codemirror_mode": {
    "name": "ipython",
    "version": 3
   },
   "file_extension": ".py",
   "mimetype": "text/x-python",
   "name": "python",
   "nbconvert_exporter": "python",
   "pygments_lexer": "ipython3",
   "version": "3.8.3"
  },
  "toc": {
   "base_numbering": 1,
   "nav_menu": {},
   "number_sections": true,
   "sideBar": true,
   "skip_h1_title": false,
   "title_cell": "Table of Contents",
   "title_sidebar": "Contents",
   "toc_cell": true,
   "toc_position": {
    "height": "508.128px",
    "left": "34.984px",
    "top": "169.248px",
    "width": "226.308px"
   },
   "toc_section_display": true,
   "toc_window_display": true
  }
 },
 "nbformat": 4,
 "nbformat_minor": 4
}
